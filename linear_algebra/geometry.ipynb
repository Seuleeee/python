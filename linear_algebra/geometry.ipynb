{
 "cells": [
  {
   "cell_type": "code",
   "execution_count": 6,
   "metadata": {},
   "outputs": [
    {
     "name": "stdout",
     "output_type": "stream",
     "text": [
      "5.385164807134504\n",
      "3.605551275463989\n",
      "4.242640687119285\n",
      "0.36112343500006017\n",
      "0.40371520600005606\n",
      "0.04761904761904767\n"
     ]
    }
   ],
   "source": [
    "# 연습문제 3.1.6\n",
    "\n",
    "a = np.array([[4],[5],[2],[2]])\n",
    "b = np.array([[4],[0],[2],[0]])\n",
    "c = np.array([[2],[2],[0],[1]])\n",
    "\n",
    "#유클리드 거리\n",
    "print(np.linalg.norm(a-b))\n",
    "print(np.linalg.norm(b-c))\n",
    "print(np.linalg.norm(c-a))\n",
    "#코사인 거리\n",
    "print(1 - (a.T@b)[0][0] / (np.linalg.norm(a)*np.linalg.norm(b)))\n",
    "print(1 - (b.T@c)[0][0] / (np.linalg.norm(b)*np.linalg.norm(c)))\n",
    "print(1 - (c.T@a)[0][0] / (np.linalg.norm(c)*np.linalg.norm(a)))"
   ]
  }
 ],
 "metadata": {
  "kernelspec": {
   "display_name": "Python 3",
   "language": "python",
   "name": "python3"
  },
  "language_info": {
   "codemirror_mode": {
    "name": "ipython",
    "version": 3
   },
   "file_extension": ".py",
   "mimetype": "text/x-python",
   "name": "python",
   "nbconvert_exporter": "python",
   "pygments_lexer": "ipython3",
   "version": "3.7.6"
  }
 },
 "nbformat": 4,
 "nbformat_minor": 4
}
