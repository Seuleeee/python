{
 "cells": [
  {
   "cell_type": "code",
   "execution_count": 9,
   "metadata": {},
   "outputs": [
    {
     "name": "stdout",
     "output_type": "stream",
     "text": [
      "운세를 알려드립니다. 태어난 월을 숫자로 입력하세요. : \n",
      "12\n",
      "오늘의 운세는 하는 일 모두 잘되고 목표한 바 다이루고 건강하며, 가족, 친구들 모두 행복합니다.입니다.\n"
     ]
    }
   ],
   "source": [
    "# 자신이 태어난 월을 입력했을 때 운세를 알려주는 게임만들기\n",
    "\n",
    "# 1.dict를 활용해 키:값 형태의 월:운세 변수 선언\n",
    "fortune = {\n",
    "    1 : \"밤 길을 조심해야 합니다.\",\n",
    "    2 : \"주위를 잘 둘러보세요. 인연이 있을지도 모릅니다.\",\n",
    "    3 : \"가족들 중 좋은 일이 생길 겁니다.\",\n",
    "    4 : \"업무가 힘드실 수 있으나 조만간 좋은 일이 있습니다.\",\n",
    "    5 : \"몸 조심하세요. 건강 악신호가 있습니다.\",\n",
    "    6 : \"조상님의 기운이 온 몸을 휘감고 있습니다.\",\n",
    "    7 : \"인사고과에서 최고점을 받으실 수 있습니다.\",\n",
    "    8 : \"당분간 안좋은 일들이 많습니다.\",\n",
    "    9 : \"인생이 힘드실겁니다.\",\n",
    "    10 : \"목표한 바를 조만간에 이루실 겁니다.\",\n",
    "    11 : \"좋은 일도 나쁜 일도 없이 평탄합니다.\",\n",
    "    12 : \"하는 일 모두 잘되고 목표한 바 다이루고 건강하며, 가족, 친구들 모두 행복합니다.\"\n",
    "}\n",
    "\n",
    "# 2. input()을 활용해 태어난 월을 입력받음\n",
    "print(\"운세를 알려드립니다. 태어난 월을 숫자로 입력하세요. : \")\n",
    "month = int(input())\n",
    "\n",
    "# 3. 운세 발표\n",
    "print(\"오늘의 운세는 \"+fortune[month]+\"입니다.\");"
   ]
  },
  {
   "cell_type": "code",
   "execution_count": null,
   "metadata": {},
   "outputs": [],
   "source": []
  }
 ],
 "metadata": {
  "kernelspec": {
   "display_name": "Python 3",
   "language": "python",
   "name": "python3"
  },
  "language_info": {
   "codemirror_mode": {
    "name": "ipython",
    "version": 3
   },
   "file_extension": ".py",
   "mimetype": "text/x-python",
   "name": "python",
   "nbconvert_exporter": "python",
   "pygments_lexer": "ipython3",
   "version": "3.7.6"
  }
 },
 "nbformat": 4,
 "nbformat_minor": 4
}
