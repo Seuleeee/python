{
 "cells": [
  {
   "cell_type": "markdown",
   "metadata": {},
   "source": [
    "### summary\n",
    "- jupyter notebook\n",
    "    - mode : 명령모드, 편집모드\n",
    "    - style : markdown, code\n",
    "    - 단축키\n",
    "        - 실행 : shift + Enter\n",
    "        - 자동완성 : tab\n",
    "        - docstring 보기 : shift + tab\n",
    "        - 주석설정 : cmd(ctrl) + /\n",
    "        - 샐 셍성 : a(위), b(아래)\n",
    "    - python 기본 문법\n",
    "        - 변수 선언 : RAM 저장공간에 값을 할당하는 행위\n",
    "        - 식별자 규칙\n",
    "            - 대문자, 소문자, 숫자, _\n",
    "            - 가장 앞글자 숫자사용 불가\n",
    "            - 예약어 사용 불가 : def, class, try ...\n",
    "            - snake_case(변수, 함수), CamelCase(클래스명)\n",
    "        - 데이터타입\n",
    "            - 동적타이핑 : 자동으로 저장공간의 데이터 타입이 설정\n",
    "            - 기본데이터 타입 : int, float, bool, str\n",
    "            - 컬렉션 데이터 타입 : list(iterable), tuple(iterable), dict\n",
    "            - offset index : 특정 위치의 데이터를 출력할 때 사용\n",
    "                - iterable한 dataType에서만 사용 가능\n",
    "                = [] : mask, masking\n",
    "                - [idx] : idx위치 데이터를 출력\n",
    "                - [start:end] : start 에서 end 까지 출력(end 포함 안됨)\n",
    "                - [start:end:stride] : stride 만큼 jump하여 출력                \n",
    "            - 각 데이터 타입별로 함수가 있음\n",
    "    - 형변환\n",
    "        - 이미 변수에 설정된 데이터 타입을 변경하는 행위\n",
    "        - zip\n",
    "            - 여러개의  리스트를 같은 인덱스 끼리 묶어주는 함수\n",
    "            - 2개 리스트를 묶으면 1개의 dict로 형변환\n",
    "    - 연산자\n",
    "        - 산술 : +, -, *, /, //. %. **\n",
    "        - 할당 : A += 등\n",
    "        - 비교 : <, >, <=, >=, ==, !=\n",
    "        - 논리 : and, or, not\n",
    "        - 멤버 : in, not in  "
   ]
  },
  {
   "cell_type": "markdown",
   "metadata": {},
   "source": [
    "### 1. 조건문\n",
    "- 특정 조건에 따라서 코드를 실행하고자 할 때 사용\n",
    "- if, else, elif"
   ]
  },
  {
   "cell_type": "code",
   "execution_count": 3,
   "metadata": {},
   "outputs": [
    {
     "name": "stdout",
     "output_type": "stream",
     "text": [
      "done\n"
     ]
    }
   ],
   "source": [
    "# 조건부분에 bool 데이터 타입 이외의 데이터타입이 오면 bool로 형변환 되어 판단\n",
    "\n",
    "if False :\n",
    "    print(\"python\")\n",
    "    \n",
    "print(\"done\")"
   ]
  },
  {
   "cell_type": "code",
   "execution_count": 4,
   "metadata": {},
   "outputs": [
    {
     "data": {
      "text/plain": [
       "(False, True, True)"
      ]
     },
     "execution_count": 4,
     "metadata": {},
     "output_type": "execute_result"
    }
   ],
   "source": [
    "# int : 0을 제외한 나머지 값은 True\n",
    "bool(0), bool(1), bool(100)"
   ]
  },
  {
   "cell_type": "code",
   "execution_count": 8,
   "metadata": {},
   "outputs": [
    {
     "name": "stdout",
     "output_type": "stream",
     "text": [
      "python\n"
     ]
    }
   ],
   "source": [
    "num = 0\n",
    "\n",
    "if num:\n",
    "    print(\"python\")\n",
    "\n",
    "num = 1\n",
    "\n",
    "if num:\n",
    "    print(\"python\")"
   ]
  },
  {
   "cell_type": "code",
   "execution_count": 12,
   "metadata": {},
   "outputs": [
    {
     "name": "stdout",
     "output_type": "stream",
     "text": [
      "21는 홀수 입니다.\n"
     ]
    }
   ],
   "source": [
    "number = 21\n",
    "\n",
    "if number % 2 :\n",
    "    print(str(number)+\"는 홀수 입니다.\")"
   ]
  },
  {
   "cell_type": "code",
   "execution_count": 13,
   "metadata": {},
   "outputs": [],
   "source": [
    "# float : 0.0을 제외한 나머지 실수는 True\n",
    "# str : \"\"를 제외한 나머지 문자열은 True\n",
    "# list, tuple, dict : [], (), {}를 제외한 나머지는 True"
   ]
  },
  {
   "cell_type": "code",
   "execution_count": 19,
   "metadata": {},
   "outputs": [
    {
     "name": "stdout",
     "output_type": "stream",
     "text": [
      "돈이 얼마 있습니까?20\n",
      "걸어갑니다.\n"
     ]
    }
   ],
   "source": [
    "# 지갑에 돈이 10000 이상 있으면 택시를 타고 아니면 걸어서 감.\n",
    "\n",
    "money = int(input(\"돈이 얼마 있습니까?\"))\n",
    "if money >= 10000:\n",
    "    print(\"택시탑니다.\")\n",
    "else:\n",
    "    print(\"걸어갑니다.\")"
   ]
  },
  {
   "cell_type": "code",
   "execution_count": 22,
   "metadata": {},
   "outputs": [
    {
     "name": "stdout",
     "output_type": "stream",
     "text": [
      "돈이 얼마가 있습니까2000\n",
      "버스\n"
     ]
    }
   ],
   "source": [
    "# 만원이상은 택시, 2000원 이상은 버스를 탐, 아니면 걸어서감\n",
    "money = int(input(\"돈이 얼마가 있습니까\"))\n",
    "\n",
    "if money >= 10000:\n",
    "    print(\"택시\")\n",
    "elif money >= 2000:\n",
    "    print(\"버스\")\n",
    "else:\n",
    "    print(\"걸어\")"
   ]
  },
  {
   "cell_type": "code",
   "execution_count": null,
   "metadata": {},
   "outputs": [],
   "source": [
    "money = 10000"
   ]
  },
  {
   "cell_type": "code",
   "execution_count": 36,
   "metadata": {},
   "outputs": [
    {
     "name": "stdout",
     "output_type": "stream",
     "text": [
      "insert draw money : 5000\n",
      "5000원이 인출되었습니다.\n",
      "잔액은 0원 입니다.\n"
     ]
    }
   ],
   "source": [
    "# 계좌에 10000이 들어있습니다.\n",
    "# 인출 금액을 입력 받습니다.\n",
    "# 인출 금액이 계좌에 있는 금액보다 크면 \"인출이 불가능 합니다.\" 출력\n",
    "# 작으면 \"인출되었습니다.\" 출력\n",
    "# 현재 계좌의 잔액 출력\n",
    "\n",
    "draw_money = int(input(\"insert draw money : \"))\n",
    "\n",
    "\n",
    "if draw_money > money:\n",
    "    print(\"인출이 불가능 합니다.\"+str(draw_money - money)+\"원 입니다.\")\n",
    "else:\n",
    "    money -= draw_money\n",
    "    print(str(draw_money)+\"원이 인출되었습니다.\")\n",
    "    \n",
    "print(\"잔액은 \"+str(money)+\"원 입니다.\")"
   ]
  },
  {
   "cell_type": "code",
   "execution_count": 37,
   "metadata": {},
   "outputs": [
    {
     "name": "stdout",
     "output_type": "stream",
     "text": [
      "잔액은 0원 입니다. 인출금액은 5000입니다.\n",
      "잔액은 0원 입니다. 인출금액은 5000입니다.\n"
     ]
    }
   ],
   "source": [
    "# string 데이터 타입의 format 함수\n",
    "print(\"잔액은 {}원 입니다. 인출금액은 {}입니다.\".format(money, draw_money))\n",
    "print(\"잔액은 {data1}원 입니다. 인출금액은 {data2}입니다.\".format(data2=draw_money, data1=money))"
   ]
  },
  {
   "cell_type": "code",
   "execution_count": null,
   "metadata": {},
   "outputs": [],
   "source": []
  }
 ],
 "metadata": {
  "kernelspec": {
   "display_name": "Python 3",
   "language": "python",
   "name": "python3"
  },
  "language_info": {
   "codemirror_mode": {
    "name": "ipython",
    "version": 3
   },
   "file_extension": ".py",
   "mimetype": "text/x-python",
   "name": "python",
   "nbconvert_exporter": "python",
   "pygments_lexer": "ipython3",
   "version": "3.7.6"
  }
 },
 "nbformat": 4,
 "nbformat_minor": 4
}
